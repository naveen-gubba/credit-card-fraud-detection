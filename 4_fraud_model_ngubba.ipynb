{
 "cells": [
  {
   "cell_type": "markdown",
   "metadata": {},
   "source": [
    "### Model Development based on Down-Sampling to achieve balanced sample"
   ]
  },
  {
   "cell_type": "code",
   "execution_count": 1,
   "metadata": {},
   "outputs": [],
   "source": [
    "import pandas as pd\n",
    "from sklearn.impute import SimpleImputer\n",
    "from sklearn.preprocessing import OneHotEncoder\n",
    "import os, sys\n",
    "import numpy as np\n",
    "from sklearn.tree import DecisionTreeClassifier, plot_tree, export_text\n",
    "from sklearn.metrics import classification_report, confusion_matrix, fbeta_score, make_scorer,recall_score\n",
    "from sklearn.model_selection import train_test_split\n",
    "from matplotlib import pyplot as plt\n",
    "%matplotlib inline  \n",
    "\n",
    "from sklearn.linear_model import LogisticRegression\n",
    "from sklearn.model_selection import GridSearchCV\n",
    "from sklearn.pipeline import Pipeline\n",
    "from sklearn.decomposition import PCA, FactorAnalysis\n",
    "from sklearn.ensemble import RandomForestClassifier, BaggingClassifier,AdaBoostClassifier,GradientBoostingClassifier,ExtraTreesClassifier\n",
    "import pickle"
   ]
  },
  {
   "cell_type": "code",
   "execution_count": 2,
   "metadata": {},
   "outputs": [],
   "source": [
    "df=pd.read_csv('/dsa/groups/casestudy2021f/group_2/curated_data_m2.csv')"
   ]
  },
  {
   "cell_type": "code",
   "execution_count": 3,
   "metadata": {},
   "outputs": [],
   "source": [
    "#online_instore classification corrected based on \n",
    "#https://www.aibms.com/wp-content/uploads/2014/12/GL_OPS_1205003.pdf\n",
    "def online_instore(x):\n",
    "    if x == 2 or x == 5 or x ==90 or x==80:\n",
    "        return 'instore'\n",
    "    \n",
    "    elif x == 9:\n",
    "        return 'electronic'\n",
    "    else:\n",
    "        return 'missing'\n",
    "\n",
    "df['iselectronic'] = df['posentrymode'].apply(online_instore)\n",
    "# df.loc[:,('posconditioncode','pos_description','posentrymode','iselectronic')].value_counts()"
   ]
  },
  {
   "cell_type": "code",
   "execution_count": 4,
   "metadata": {},
   "outputs": [],
   "source": [
    "# adding pos condition code description based on https://www.mreports.com/documentation/ac/nonmerchant/80449.htm\n",
    "def poscondition_desc(x):\n",
    "    if x == 1:\n",
    "        return 'card holder not present'\n",
    "    elif x == 8:\n",
    "        return 'mail/telephone order'\n",
    "    else:\n",
    "        return 'missing'\n",
    "df['posconditioncode_desc'] = df['posconditioncode'].apply(poscondition_desc)"
   ]
  },
  {
   "cell_type": "code",
   "execution_count": 5,
   "metadata": {},
   "outputs": [
    {
     "data": {
      "text/html": [
       "<div>\n",
       "<style scoped>\n",
       "    .dataframe tbody tr th:only-of-type {\n",
       "        vertical-align: middle;\n",
       "    }\n",
       "\n",
       "    .dataframe tbody tr th {\n",
       "        vertical-align: top;\n",
       "    }\n",
       "\n",
       "    .dataframe thead th {\n",
       "        text-align: right;\n",
       "    }\n",
       "</style>\n",
       "<table border=\"1\" class=\"dataframe\">\n",
       "  <thead>\n",
       "    <tr style=\"text-align: right;\">\n",
       "      <th></th>\n",
       "      <th>missing_values</th>\n",
       "      <th>percent</th>\n",
       "    </tr>\n",
       "  </thead>\n",
       "  <tbody>\n",
       "    <tr>\n",
       "      <th>merchantcity</th>\n",
       "      <td>786363</td>\n",
       "      <td>100.000000</td>\n",
       "    </tr>\n",
       "    <tr>\n",
       "      <th>recurringauthind</th>\n",
       "      <td>786363</td>\n",
       "      <td>100.000000</td>\n",
       "    </tr>\n",
       "    <tr>\n",
       "      <th>merchantstate</th>\n",
       "      <td>786363</td>\n",
       "      <td>100.000000</td>\n",
       "    </tr>\n",
       "    <tr>\n",
       "      <th>echobuffer</th>\n",
       "      <td>786363</td>\n",
       "      <td>100.000000</td>\n",
       "    </tr>\n",
       "    <tr>\n",
       "      <th>merchantzip</th>\n",
       "      <td>786363</td>\n",
       "      <td>100.000000</td>\n",
       "    </tr>\n",
       "    <tr>\n",
       "      <th>posonpremises</th>\n",
       "      <td>786363</td>\n",
       "      <td>100.000000</td>\n",
       "    </tr>\n",
       "    <tr>\n",
       "      <th>acqcountry</th>\n",
       "      <td>4562</td>\n",
       "      <td>0.580139</td>\n",
       "    </tr>\n",
       "    <tr>\n",
       "      <th>pos_description</th>\n",
       "      <td>4054</td>\n",
       "      <td>0.515538</td>\n",
       "    </tr>\n",
       "    <tr>\n",
       "      <th>posentrymode</th>\n",
       "      <td>4054</td>\n",
       "      <td>0.515538</td>\n",
       "    </tr>\n",
       "    <tr>\n",
       "      <th>merchantcountrycode</th>\n",
       "      <td>724</td>\n",
       "      <td>0.092069</td>\n",
       "    </tr>\n",
       "    <tr>\n",
       "      <th>transactiontype</th>\n",
       "      <td>698</td>\n",
       "      <td>0.088763</td>\n",
       "    </tr>\n",
       "    <tr>\n",
       "      <th>posconditioncode</th>\n",
       "      <td>409</td>\n",
       "      <td>0.052012</td>\n",
       "    </tr>\n",
       "    <tr>\n",
       "      <th>transactionamount</th>\n",
       "      <td>0</td>\n",
       "      <td>0.000000</td>\n",
       "    </tr>\n",
       "    <tr>\n",
       "      <th>merchantcategorycode</th>\n",
       "      <td>0</td>\n",
       "      <td>0.000000</td>\n",
       "    </tr>\n",
       "    <tr>\n",
       "      <th>transactiondatetime</th>\n",
       "      <td>0</td>\n",
       "      <td>0.000000</td>\n",
       "    </tr>\n",
       "    <tr>\n",
       "      <th>month</th>\n",
       "      <td>0</td>\n",
       "      <td>0.000000</td>\n",
       "    </tr>\n",
       "    <tr>\n",
       "      <th>year</th>\n",
       "      <td>0</td>\n",
       "      <td>0.000000</td>\n",
       "    </tr>\n",
       "    <tr>\n",
       "      <th>iselectronic</th>\n",
       "      <td>0</td>\n",
       "      <td>0.000000</td>\n",
       "    </tr>\n",
       "    <tr>\n",
       "      <th>merchantname</th>\n",
       "      <td>0</td>\n",
       "      <td>0.000000</td>\n",
       "    </tr>\n",
       "    <tr>\n",
       "      <th>Unnamed: 0</th>\n",
       "      <td>0</td>\n",
       "      <td>0.000000</td>\n",
       "    </tr>\n",
       "    <tr>\n",
       "      <th>merchant_name_uq</th>\n",
       "      <td>0</td>\n",
       "      <td>0.000000</td>\n",
       "    </tr>\n",
       "    <tr>\n",
       "      <th>accountnumber</th>\n",
       "      <td>0</td>\n",
       "      <td>0.000000</td>\n",
       "    </tr>\n",
       "    <tr>\n",
       "      <th>creditlimit</th>\n",
       "      <td>0</td>\n",
       "      <td>0.000000</td>\n",
       "    </tr>\n",
       "    <tr>\n",
       "      <th>accountopendate</th>\n",
       "      <td>0</td>\n",
       "      <td>0.000000</td>\n",
       "    </tr>\n",
       "    <tr>\n",
       "      <th>amount_classify</th>\n",
       "      <td>0</td>\n",
       "      <td>0.000000</td>\n",
       "    </tr>\n",
       "    <tr>\n",
       "      <th>availablemoney</th>\n",
       "      <td>0</td>\n",
       "      <td>0.000000</td>\n",
       "    </tr>\n",
       "    <tr>\n",
       "      <th>cardcvv</th>\n",
       "      <td>0</td>\n",
       "      <td>0.000000</td>\n",
       "    </tr>\n",
       "    <tr>\n",
       "      <th>cardlast4digits</th>\n",
       "      <td>0</td>\n",
       "      <td>0.000000</td>\n",
       "    </tr>\n",
       "    <tr>\n",
       "      <th>cardpresent</th>\n",
       "      <td>0</td>\n",
       "      <td>0.000000</td>\n",
       "    </tr>\n",
       "    <tr>\n",
       "      <th>currentbalance</th>\n",
       "      <td>0</td>\n",
       "      <td>0.000000</td>\n",
       "    </tr>\n",
       "    <tr>\n",
       "      <th>isfraud</th>\n",
       "      <td>0</td>\n",
       "      <td>0.000000</td>\n",
       "    </tr>\n",
       "    <tr>\n",
       "      <th>currentexpdate</th>\n",
       "      <td>0</td>\n",
       "      <td>0.000000</td>\n",
       "    </tr>\n",
       "    <tr>\n",
       "      <th>customerid</th>\n",
       "      <td>0</td>\n",
       "      <td>0.000000</td>\n",
       "    </tr>\n",
       "    <tr>\n",
       "      <th>dateoflastaddresschange</th>\n",
       "      <td>0</td>\n",
       "      <td>0.000000</td>\n",
       "    </tr>\n",
       "    <tr>\n",
       "      <th>day</th>\n",
       "      <td>0</td>\n",
       "      <td>0.000000</td>\n",
       "    </tr>\n",
       "    <tr>\n",
       "      <th>enteredcvv</th>\n",
       "      <td>0</td>\n",
       "      <td>0.000000</td>\n",
       "    </tr>\n",
       "    <tr>\n",
       "      <th>expirationdatekeyinmatch</th>\n",
       "      <td>0</td>\n",
       "      <td>0.000000</td>\n",
       "    </tr>\n",
       "    <tr>\n",
       "      <th>posconditioncode_desc</th>\n",
       "      <td>0</td>\n",
       "      <td>0.000000</td>\n",
       "    </tr>\n",
       "  </tbody>\n",
       "</table>\n",
       "</div>"
      ],
      "text/plain": [
       "                          missing_values     percent\n",
       "merchantcity                      786363  100.000000\n",
       "recurringauthind                  786363  100.000000\n",
       "merchantstate                     786363  100.000000\n",
       "echobuffer                        786363  100.000000\n",
       "merchantzip                       786363  100.000000\n",
       "posonpremises                     786363  100.000000\n",
       "acqcountry                          4562    0.580139\n",
       "pos_description                     4054    0.515538\n",
       "posentrymode                        4054    0.515538\n",
       "merchantcountrycode                  724    0.092069\n",
       "transactiontype                      698    0.088763\n",
       "posconditioncode                     409    0.052012\n",
       "transactionamount                      0    0.000000\n",
       "merchantcategorycode                   0    0.000000\n",
       "transactiondatetime                    0    0.000000\n",
       "month                                  0    0.000000\n",
       "year                                   0    0.000000\n",
       "iselectronic                           0    0.000000\n",
       "merchantname                           0    0.000000\n",
       "Unnamed: 0                             0    0.000000\n",
       "merchant_name_uq                       0    0.000000\n",
       "accountnumber                          0    0.000000\n",
       "creditlimit                            0    0.000000\n",
       "accountopendate                        0    0.000000\n",
       "amount_classify                        0    0.000000\n",
       "availablemoney                         0    0.000000\n",
       "cardcvv                                0    0.000000\n",
       "cardlast4digits                        0    0.000000\n",
       "cardpresent                            0    0.000000\n",
       "currentbalance                         0    0.000000\n",
       "isfraud                                0    0.000000\n",
       "currentexpdate                         0    0.000000\n",
       "customerid                             0    0.000000\n",
       "dateoflastaddresschange                0    0.000000\n",
       "day                                    0    0.000000\n",
       "enteredcvv                             0    0.000000\n",
       "expirationdatekeyinmatch               0    0.000000\n",
       "posconditioncode_desc                  0    0.000000"
      ]
     },
     "execution_count": 5,
     "metadata": {},
     "output_type": "execute_result"
    }
   ],
   "source": [
    "null_count = df.isnull().sum().sort_values(ascending = False)\n",
    "\n",
    "percent = (df.isnull().sum()/(df.shape[0])*100)\n",
    "missing_df = pd.concat([null_count, percent], axis=1, keys=['missing_values', 'percent'])\n",
    "missing_df"
   ]
  },
  {
   "cell_type": "code",
   "execution_count": 6,
   "metadata": {},
   "outputs": [
    {
     "data": {
      "text/plain": [
       "Index(['merchantcity', 'recurringauthind', 'merchantstate', 'echobuffer',\n",
       "       'merchantzip', 'posonpremises'],\n",
       "      dtype='object')"
      ]
     },
     "execution_count": 6,
     "metadata": {},
     "output_type": "execute_result"
    }
   ],
   "source": [
    "#Index of features having all thier samples missing data\n",
    "missing_all = missing_df.loc[missing_df['percent']==100,]\n",
    "missing_all.index"
   ]
  },
  {
   "cell_type": "code",
   "execution_count": 7,
   "metadata": {},
   "outputs": [
    {
     "name": "stdout",
     "output_type": "stream",
     "text": [
      "Original number of features -  38 \n",
      "Number of features with 100% missing values- 6 \n",
      "Resulting number of features -32\n"
     ]
    }
   ],
   "source": [
    "#subset on curated dataset on columns not having 100% missing values\n",
    "df_sub = df.loc[:,~df.columns.isin(missing_all.index)]\n",
    "print(f\"Original number of features -  {df.shape[1]} \\nNumber of features with 100% missing values- {len(missing_all.index)} \\nResulting number of features -{df_sub.shape[1]}\")"
   ]
  },
  {
   "cell_type": "code",
   "execution_count": 8,
   "metadata": {},
   "outputs": [
    {
     "data": {
      "text/html": [
       "<div>\n",
       "<style scoped>\n",
       "    .dataframe tbody tr th:only-of-type {\n",
       "        vertical-align: middle;\n",
       "    }\n",
       "\n",
       "    .dataframe tbody tr th {\n",
       "        vertical-align: top;\n",
       "    }\n",
       "\n",
       "    .dataframe thead th {\n",
       "        text-align: right;\n",
       "    }\n",
       "</style>\n",
       "<table border=\"1\" class=\"dataframe\">\n",
       "  <thead>\n",
       "    <tr style=\"text-align: right;\">\n",
       "      <th></th>\n",
       "      <th>Unnamed: 0</th>\n",
       "      <th>accountnumber</th>\n",
       "      <th>accountopendate</th>\n",
       "      <th>acqcountry</th>\n",
       "      <th>amount_classify</th>\n",
       "      <th>availablemoney</th>\n",
       "      <th>cardcvv</th>\n",
       "      <th>cardlast4digits</th>\n",
       "      <th>cardpresent</th>\n",
       "      <th>creditlimit</th>\n",
       "      <th>...</th>\n",
       "      <th>month</th>\n",
       "      <th>pos_description</th>\n",
       "      <th>posconditioncode</th>\n",
       "      <th>posentrymode</th>\n",
       "      <th>transactionamount</th>\n",
       "      <th>transactiondatetime</th>\n",
       "      <th>transactiontype</th>\n",
       "      <th>year</th>\n",
       "      <th>iselectronic</th>\n",
       "      <th>posconditioncode_desc</th>\n",
       "    </tr>\n",
       "  </thead>\n",
       "  <tbody>\n",
       "  </tbody>\n",
       "</table>\n",
       "<p>0 rows × 32 columns</p>\n",
       "</div>"
      ],
      "text/plain": [
       "Empty DataFrame\n",
       "Columns: [Unnamed: 0, accountnumber, accountopendate, acqcountry, amount_classify, availablemoney, cardcvv, cardlast4digits, cardpresent, creditlimit, currentbalance, currentexpdate, customerid, dateoflastaddresschange, day, enteredcvv, expirationdatekeyinmatch, isfraud, merchant_name_uq, merchantcategorycode, merchantcountrycode, merchantname, month, pos_description, posconditioncode, posentrymode, transactionamount, transactiondatetime, transactiontype, year, iselectronic, posconditioncode_desc]\n",
       "Index: []\n",
       "\n",
       "[0 rows x 32 columns]"
      ]
     },
     "execution_count": 8,
     "metadata": {},
     "output_type": "execute_result"
    }
   ],
   "source": [
    "#check if customer id and account id are different\n",
    "df_sub.loc[df_sub['customerid'] != df_sub['accountnumber']]"
   ]
  },
  {
   "cell_type": "code",
   "execution_count": 9,
   "metadata": {},
   "outputs": [
    {
     "data": {
      "text/plain": [
       "Index(['accountopendate', 'acqcountry', 'amount_classify', 'availablemoney',\n",
       "       'cardcvv', 'cardlast4digits', 'cardpresent', 'creditlimit',\n",
       "       'currentbalance', 'currentexpdate', 'dateoflastaddresschange', 'day',\n",
       "       'enteredcvv', 'expirationdatekeyinmatch', 'isfraud',\n",
       "       'merchantcategorycode', 'merchantcountrycode', 'month',\n",
       "       'posconditioncode', 'posentrymode', 'transactionamount',\n",
       "       'transactiontype', 'year', 'iselectronic'],\n",
       "      dtype='object')"
      ]
     },
     "execution_count": 9,
     "metadata": {},
     "output_type": "execute_result"
    }
   ],
   "source": [
    "#remove features, unnamed is a redundant index, \n",
    "#accountnumber and customerid are only indexes/labels pertaining to each transaction\n",
    "#merchantname and merchant_name_uq are deleted since vizulization revealed no pattern\n",
    "#transactiondate time is being replaced by day, month and year\n",
    "#since there are no fraud transactions distributions by merchant code show no clustering and hence removing the column\n",
    "#pos_description is represented by posentrymode\n",
    "#posconditioncode_desc is represented by posconditioncode\n",
    "\n",
    "df_sub = df_sub.loc[:,~df_sub.columns.isin(['Unnamed: 0','accountnumber','customerid','merchantname','transactiondatetime',\n",
    "                                            'merchant_name_uq','pos_description','posconditioncode_desc'])]\n",
    "df_sub.columns"
   ]
  },
  {
   "cell_type": "code",
   "execution_count": 10,
   "metadata": {},
   "outputs": [
    {
     "name": "stdout",
     "output_type": "stream",
     "text": [
      "date type columns: ['accountopendate', 'currentexpdate', 'dateoflastaddresschange']\n"
     ]
    }
   ],
   "source": [
    "#features having dates\n",
    "date_columns =  []\n",
    "for col in df_sub.columns:\n",
    "    if col.endswith('date') or col.startswith('date') :\n",
    "        date_columns.append(col)\n",
    "print('date type columns:', date_columns)"
   ]
  },
  {
   "cell_type": "code",
   "execution_count": 11,
   "metadata": {},
   "outputs": [
    {
     "data": {
      "text/plain": [
       "Index(['acqcountry', 'amount_classify', 'availablemoney', 'cardcvv',\n",
       "       'cardlast4digits', 'cardpresent', 'creditlimit', 'currentbalance',\n",
       "       'day', 'enteredcvv', 'expirationdatekeyinmatch', 'isfraud',\n",
       "       'merchantcategorycode', 'merchantcountrycode', 'month',\n",
       "       'posconditioncode', 'posentrymode', 'transactionamount',\n",
       "       'transactiontype', 'year', 'iselectronic'],\n",
       "      dtype='object')"
      ]
     },
     "execution_count": 11,
     "metadata": {},
     "output_type": "execute_result"
    }
   ],
   "source": [
    "#exclude features with datatype as date\n",
    "df_sub = df_sub.loc[:,~df_sub.columns.isin(date_columns)]\n",
    "df_sub.columns"
   ]
  },
  {
   "cell_type": "code",
   "execution_count": 12,
   "metadata": {},
   "outputs": [
    {
     "data": {
      "text/plain": [
       "acqcountry                   object\n",
       "amount_classify              object\n",
       "availablemoney              float64\n",
       "cardcvv                       int64\n",
       "cardlast4digits               int64\n",
       "cardpresent                    bool\n",
       "creditlimit                   int64\n",
       "currentbalance              float64\n",
       "day                           int64\n",
       "enteredcvv                    int64\n",
       "expirationdatekeyinmatch       bool\n",
       "isfraud                        bool\n",
       "merchantcategorycode         object\n",
       "merchantcountrycode          object\n",
       "month                         int64\n",
       "posconditioncode            float64\n",
       "posentrymode                float64\n",
       "transactionamount           float64\n",
       "transactiontype              object\n",
       "year                          int64\n",
       "iselectronic                 object\n",
       "dtype: object"
      ]
     },
     "execution_count": 12,
     "metadata": {},
     "output_type": "execute_result"
    }
   ],
   "source": [
    "df_sub.dtypes"
   ]
  },
  {
   "cell_type": "code",
   "execution_count": 13,
   "metadata": {},
   "outputs": [
    {
     "name": "stdout",
     "output_type": "stream",
     "text": [
      "                     missing_values   percent data_type\n",
      "acqcountry                     4562  0.580139    object\n",
      "merchantcountrycode             724  0.092069    object\n",
      "posconditioncode                409  0.052012   float64\n",
      "posentrymode                   4054  0.515538   float64\n",
      "transactiontype                 698  0.088763    object\n"
     ]
    }
   ],
   "source": [
    "#missing value imputation based on mode\n",
    "\n",
    "df_sub_missing = missing_df.loc[df_sub.columns,]\n",
    "df_sub_missing['data_type'] = [df[x].dtypes for x in df_sub_missing.index]\n",
    "print(df_sub_missing.loc[df_sub_missing['missing_values']!=0,])\n",
    "\n",
    "\n",
    "for col in df_sub_missing.index:\n",
    "    df_sub[col]= df_sub[col].fillna(df_sub[col].mode()[0])"
   ]
  },
  {
   "cell_type": "code",
   "execution_count": 14,
   "metadata": {},
   "outputs": [],
   "source": [
    "#one-hot encoding for all the features with categorical datatype\n",
    "df_sub = pd.get_dummies(df_sub, columns =df_sub.dtypes[df_sub.dtypes == object].index )"
   ]
  },
  {
   "cell_type": "code",
   "execution_count": 15,
   "metadata": {},
   "outputs": [],
   "source": [
    "with open('df_sub','wb') as f:\n",
    "    pickle.dump(df_sub,f)"
   ]
  },
  {
   "cell_type": "code",
   "execution_count": 16,
   "metadata": {},
   "outputs": [
    {
     "data": {
      "text/plain": [
       "availablemoney                               float64\n",
       "cardcvv                                        int64\n",
       "cardlast4digits                                int64\n",
       "cardpresent                                     bool\n",
       "creditlimit                                    int64\n",
       "currentbalance                               float64\n",
       "day                                            int64\n",
       "enteredcvv                                     int64\n",
       "expirationdatekeyinmatch                        bool\n",
       "isfraud                                         bool\n",
       "month                                          int64\n",
       "posconditioncode                             float64\n",
       "posentrymode                                 float64\n",
       "transactionamount                            float64\n",
       "year                                           int64\n",
       "acqcountry_CAN                                 uint8\n",
       "acqcountry_MEX                                 uint8\n",
       "acqcountry_PR                                  uint8\n",
       "acqcountry_US                                  uint8\n",
       "amount_classify_$100-200                       uint8\n",
       "amount_classify_$200-300                       uint8\n",
       "amount_classify_$300-500                       uint8\n",
       "amount_classify_$50-100                        uint8\n",
       "amount_classify_$500-1000                      uint8\n",
       "amount_classify_<$50                           uint8\n",
       "amount_classify_>=$1000                        uint8\n",
       "merchantcategorycode_airline                   uint8\n",
       "merchantcategorycode_auto                      uint8\n",
       "merchantcategorycode_cable/phone               uint8\n",
       "merchantcategorycode_entertainment             uint8\n",
       "merchantcategorycode_fastfood                  uint8\n",
       "merchantcategorycode_food                      uint8\n",
       "merchantcategorycode_food_delivery             uint8\n",
       "merchantcategorycode_fuel                      uint8\n",
       "merchantcategorycode_furniture                 uint8\n",
       "merchantcategorycode_gym                       uint8\n",
       "merchantcategorycode_health                    uint8\n",
       "merchantcategorycode_hotels                    uint8\n",
       "merchantcategorycode_mobileapps                uint8\n",
       "merchantcategorycode_online_gifts              uint8\n",
       "merchantcategorycode_online_retail             uint8\n",
       "merchantcategorycode_online_subscriptions      uint8\n",
       "merchantcategorycode_personal care             uint8\n",
       "merchantcategorycode_rideshare                 uint8\n",
       "merchantcategorycode_subscriptions             uint8\n",
       "merchantcountrycode_CAN                        uint8\n",
       "merchantcountrycode_MEX                        uint8\n",
       "merchantcountrycode_PR                         uint8\n",
       "merchantcountrycode_US                         uint8\n",
       "transactiontype_ADDRESS_VERIFICATION           uint8\n",
       "transactiontype_PURCHASE                       uint8\n",
       "transactiontype_REVERSAL                       uint8\n",
       "iselectronic_electronic                        uint8\n",
       "iselectronic_instore                           uint8\n",
       "iselectronic_missing                           uint8\n",
       "dtype: object"
      ]
     },
     "execution_count": 16,
     "metadata": {},
     "output_type": "execute_result"
    }
   ],
   "source": [
    "df_sub.dtypes"
   ]
  },
  {
   "cell_type": "markdown",
   "metadata": {},
   "source": [
    "### Model development\n",
    "Due to heavy imbalance in the data relating to  the classes (Fraud and Not_Fraud) an initial sample drawn is downsampled. On this downsampled data, training and testing is being done using feature extraction, selection and classifier models. Feature extraction methods used are  PCA and feature selection methods used are  SelectKbest based on mutual info. Classifiers used are Logistic Regression and Ensemble classifiers like Extraclassifier, Adaboost, Gradient Boost and Random forests. The classifiers are fined tuned for the hyperparameters by running brute-force tuning method, Gridsearch. <br>\n",
    "The classifiers, as can be seen in the model 2, model 3 which are ensemble methods yield a re_call score of 0.71. The best model is being re-trained on the entire downsample and then tested on the data that is NOT in the initial sample. \n",
    "\n",
    "Testing this final retrained model on the entire downsampled data produced consistent results of good re-call score of 0.70. "
   ]
  },
  {
   "cell_type": "code",
   "execution_count": 17,
   "metadata": {},
   "outputs": [
    {
     "name": "stdout",
     "output_type": "stream",
     "text": [
      "df_sub_sample_fraud (9869, 55)\n",
      "df_sub_sample_notfraud (619221, 55)\n",
      "df_sub_sample_notfraud_ds (9869, 55)\n",
      "df_sample_balanced (19738, 55)\n"
     ]
    }
   ],
   "source": [
    "df_sub_sample = df_sub.sample(frac = 0.80)\n",
    "df_sub_sample_fraud = df_sub_sample.loc[df_sub_sample['isfraud']==True,]\n",
    "df_sub_sample_notfraud = df_sub_sample.loc[df_sub_sample['isfraud']==False,]\n",
    "df_sub_sample_notfraud_ds = df_sub_sample_notfraud.sample(n=df_sub_sample_fraud.shape[0],axis=0,replace=False)\n",
    "df_sample_balanced = pd.concat([df_sub_sample_fraud,df_sub_sample_notfraud_ds], axis = 0 )\n",
    "\n",
    "print('df_sub_sample_fraud', df_sub_sample_fraud.shape)\n",
    "\n",
    "print('df_sub_sample_notfraud', df_sub_sample_notfraud.shape)\n",
    "print('df_sub_sample_notfraud_ds', df_sub_sample_notfraud_ds.shape)\n",
    "print('df_sample_balanced', df_sample_balanced.shape)\n",
    "\n",
    "df_sub_sample_index = df_sub_sample.index\n",
    "\n",
    "\n",
    "\n",
    "\n",
    "\n",
    "del df_sub_sample\n",
    "del df_sub_sample_fraud\n",
    "del df_sub_sample_notfraud\n",
    "del df_sub_sample_notfraud_ds\n",
    "\n"
   ]
  },
  {
   "cell_type": "code",
   "execution_count": 18,
   "metadata": {},
   "outputs": [],
   "source": [
    "X = df_sample_balanced.loc[:,~df_sample_balanced.columns.isin(['isfraud'])]\n",
    "y= df_sample_balanced['isfraud']\n",
    "df_sample_cols = X.columns                      \n",
    "del df_sample_balanced"
   ]
  },
  {
   "cell_type": "code",
   "execution_count": 19,
   "metadata": {},
   "outputs": [],
   "source": [
    "X_train, X_test, y_train, y_test = train_test_split(X, y, test_size=0.20)\n",
    "\n",
    "# del X\n",
    "# del y\n"
   ]
  },
  {
   "cell_type": "markdown",
   "metadata": {},
   "source": [
    "### Model - 1\n",
    "Feature extraction  - PCA\n",
    "Classifer - Logistic Regression"
   ]
  },
  {
   "cell_type": "code",
   "execution_count": 20,
   "metadata": {},
   "outputs": [
    {
     "data": {
      "text/plain": [
       "GridSearchCV(cv=5,\n",
       "             estimator=Pipeline(steps=[('PCA', PCA(n_components=5)),\n",
       "                                       ('LogisticRegression',\n",
       "                                        LogisticRegression(C=1,\n",
       "                                                           max_iter=5000))]),\n",
       "             n_jobs=5,\n",
       "             param_grid={'LogisticRegression__C': [0.001, 0.01, 1, 5, 10],\n",
       "                         'PCA__n_components': [3, 4, 5]},\n",
       "             scoring=make_scorer(<lambda>))"
      ]
     },
     "execution_count": 20,
     "metadata": {},
     "output_type": "execute_result"
    }
   ],
   "source": [
    "pipe = Pipeline([('PCA', PCA(n_components=5)), \n",
    "                 ('LogisticRegression', LogisticRegression(C=1,max_iter=5000))])\n",
    "\n",
    "param_grid = {'PCA__n_components': [3,4,5],\n",
    "              'LogisticRegression__C': [0.001,.01,1,5,10]}\n",
    "\n",
    "# ftwo_scorer = make_scorer(fbeta_score, beta=2)\n",
    "\n",
    "recall_custom_scorer = make_scorer(\n",
    "    lambda y, y_pred, **kwargs: recall_score(y, y_pred, pos_label=1)\n",
    ")\n",
    "model_grid = GridSearchCV(pipe, param_grid, n_jobs=5,cv=5, scoring=recall_custom_scorer )\n",
    "\n",
    "\n",
    "model_grid = GridSearchCV(pipe, param_grid, n_jobs=5,cv=5, scoring=recall_custom_scorer)\n",
    "model_grid.fit(X_train,y_train)"
   ]
  },
  {
   "cell_type": "code",
   "execution_count": 21,
   "metadata": {},
   "outputs": [
    {
     "name": "stdout",
     "output_type": "stream",
     "text": [
      "              precision    recall  f1-score   support\n",
      "\n",
      "       False       0.51      0.52      0.52      1992\n",
      "        True       0.50      0.49      0.50      1956\n",
      "\n",
      "    accuracy                           0.51      3948\n",
      "   macro avg       0.51      0.51      0.51      3948\n",
      "weighted avg       0.51      0.51      0.51      3948\n",
      "\n"
     ]
    },
    {
     "data": {
      "text/html": [
       "<div>\n",
       "<style scoped>\n",
       "    .dataframe tbody tr th:only-of-type {\n",
       "        vertical-align: middle;\n",
       "    }\n",
       "\n",
       "    .dataframe tbody tr th {\n",
       "        vertical-align: top;\n",
       "    }\n",
       "\n",
       "    .dataframe thead th {\n",
       "        text-align: right;\n",
       "    }\n",
       "</style>\n",
       "<table border=\"1\" class=\"dataframe\">\n",
       "  <thead>\n",
       "    <tr style=\"text-align: right;\">\n",
       "      <th>Predicted</th>\n",
       "      <th>False</th>\n",
       "      <th>True</th>\n",
       "      <th>All</th>\n",
       "    </tr>\n",
       "    <tr>\n",
       "      <th>Actual</th>\n",
       "      <th></th>\n",
       "      <th></th>\n",
       "      <th></th>\n",
       "    </tr>\n",
       "  </thead>\n",
       "  <tbody>\n",
       "    <tr>\n",
       "      <th>False</th>\n",
       "      <td>1042</td>\n",
       "      <td>950</td>\n",
       "      <td>1992</td>\n",
       "    </tr>\n",
       "    <tr>\n",
       "      <th>True</th>\n",
       "      <td>994</td>\n",
       "      <td>962</td>\n",
       "      <td>1956</td>\n",
       "    </tr>\n",
       "    <tr>\n",
       "      <th>All</th>\n",
       "      <td>2036</td>\n",
       "      <td>1912</td>\n",
       "      <td>3948</td>\n",
       "    </tr>\n",
       "  </tbody>\n",
       "</table>\n",
       "</div>"
      ],
      "text/plain": [
       "Predicted  False  True   All\n",
       "Actual                      \n",
       "False       1042   950  1992\n",
       "True         994   962  1956\n",
       "All         2036  1912  3948"
      ]
     },
     "execution_count": 21,
     "metadata": {},
     "output_type": "execute_result"
    }
   ],
   "source": [
    "print(classification_report(y_test,model_grid.predict(X_test)))\n",
    "\n",
    "\n",
    "pd.crosstab(y_test,model_grid.predict(X_test),rownames=['Actual'],colnames=['Predicted'],dropna=False,margins=True)"
   ]
  },
  {
   "cell_type": "code",
   "execution_count": 22,
   "metadata": {},
   "outputs": [
    {
     "name": "stdout",
     "output_type": "stream",
     "text": [
      "feature reduction parameters==>, ('LogisticRegression__C', 0.001), \n",
      " classifier parameters ==> ('PCA__n_components', 4)\n"
     ]
    }
   ],
   "source": [
    "print(\"feature reduction parameters==>, {}, \\n classifier parameters ==>\"\n",
    "      .format([(key, value) for key, value in dict.items(model_grid.best_params_)][0]),\n",
    "      [(key, value) for key, value in dict.items(model_grid.best_params_)][1])"
   ]
  },
  {
   "cell_type": "markdown",
   "metadata": {},
   "source": [
    "### Model - 2\n",
    "Feature selection  - Filter method by selecting the best features based on univariate statistic, the mutual_info_classification which measures the dependency between the target  and features. <br>\n",
    "Classifer - ensemble method, the RandomForestClassifier "
   ]
  },
  {
   "cell_type": "code",
   "execution_count": 23,
   "metadata": {},
   "outputs": [
    {
     "name": "stdout",
     "output_type": "stream",
     "text": [
      "[Pipeline] .......... (step 1 of 2) Processing selector, total=   5.0s\n",
      "[Pipeline] ........ (step 2 of 2) Processing classifier, total=   0.3s\n"
     ]
    },
    {
     "data": {
      "text/plain": [
       "GridSearchCV(cv=5,\n",
       "             estimator=Pipeline(steps=[('selector',\n",
       "                                        SelectKBest(k=5,\n",
       "                                                    score_func=<function mutual_info_classif at 0x7f0ffd3c4f28>)),\n",
       "                                       ('classifier',\n",
       "                                        RandomForestClassifier(max_depth=5,\n",
       "                                                               n_estimators=20))],\n",
       "                                verbose=True),\n",
       "             n_jobs=5,\n",
       "             param_grid={'classifier__max_depth': [5, 7, 9],\n",
       "                         'classifier__n_estimators': [10, 15, 20],\n",
       "                         'selector__k': [5, 7, 9]},\n",
       "             scoring=make_scorer(<lambda>))"
      ]
     },
     "execution_count": 23,
     "metadata": {},
     "output_type": "execute_result"
    }
   ],
   "source": [
    "#feature selection - filter method\n",
    "from sklearn.feature_selection import SelectKBest, chi2, f_classif, mutual_info_classif\n",
    "\n",
    "pipe1 = Pipeline([('selector', SelectKBest(mutual_info_classif, k=5)),\n",
    "                  ('classifier', RandomForestClassifier(n_estimators=20,max_depth=5))],verbose=True)\n",
    "\n",
    "param_grid = {'selector__k': [5,7,9],'classifier__n_estimators': [10,15,20],'classifier__max_depth':[5,7,9]}\n",
    "\n",
    "\n",
    "\n",
    "\n",
    "model_grid1 = GridSearchCV(pipe1, param_grid, n_jobs=5,cv=5, scoring=recall_custom_scorer)\n",
    "model_grid1.fit(X_train,y_train)\n"
   ]
  },
  {
   "cell_type": "code",
   "execution_count": 24,
   "metadata": {},
   "outputs": [
    {
     "name": "stdout",
     "output_type": "stream",
     "text": [
      "              precision    recall  f1-score   support\n",
      "\n",
      "       False       0.68      0.61      0.64      1992\n",
      "        True       0.64      0.71      0.67      1956\n",
      "\n",
      "    accuracy                           0.66      3948\n",
      "   macro avg       0.66      0.66      0.66      3948\n",
      "weighted avg       0.66      0.66      0.66      3948\n",
      "\n"
     ]
    },
    {
     "data": {
      "text/html": [
       "<div>\n",
       "<style scoped>\n",
       "    .dataframe tbody tr th:only-of-type {\n",
       "        vertical-align: middle;\n",
       "    }\n",
       "\n",
       "    .dataframe tbody tr th {\n",
       "        vertical-align: top;\n",
       "    }\n",
       "\n",
       "    .dataframe thead th {\n",
       "        text-align: right;\n",
       "    }\n",
       "</style>\n",
       "<table border=\"1\" class=\"dataframe\">\n",
       "  <thead>\n",
       "    <tr style=\"text-align: right;\">\n",
       "      <th>Predicted</th>\n",
       "      <th>False</th>\n",
       "      <th>True</th>\n",
       "      <th>All</th>\n",
       "    </tr>\n",
       "    <tr>\n",
       "      <th>Actual</th>\n",
       "      <th></th>\n",
       "      <th></th>\n",
       "      <th></th>\n",
       "    </tr>\n",
       "  </thead>\n",
       "  <tbody>\n",
       "    <tr>\n",
       "      <th>False</th>\n",
       "      <td>1221</td>\n",
       "      <td>771</td>\n",
       "      <td>1992</td>\n",
       "    </tr>\n",
       "    <tr>\n",
       "      <th>True</th>\n",
       "      <td>575</td>\n",
       "      <td>1381</td>\n",
       "      <td>1956</td>\n",
       "    </tr>\n",
       "    <tr>\n",
       "      <th>All</th>\n",
       "      <td>1796</td>\n",
       "      <td>2152</td>\n",
       "      <td>3948</td>\n",
       "    </tr>\n",
       "  </tbody>\n",
       "</table>\n",
       "</div>"
      ],
      "text/plain": [
       "Predicted  False  True   All\n",
       "Actual                      \n",
       "False       1221   771  1992\n",
       "True         575  1381  1956\n",
       "All         1796  2152  3948"
      ]
     },
     "execution_count": 24,
     "metadata": {},
     "output_type": "execute_result"
    }
   ],
   "source": [
    "print(classification_report(y_test,model_grid1.predict(X_test)))\n",
    "\n",
    "\n",
    "pd.crosstab(y_test,model_grid1.predict(X_test),rownames=['Actual'],colnames=['Predicted'],dropna=False,margins=True)"
   ]
  },
  {
   "cell_type": "code",
   "execution_count": 25,
   "metadata": {},
   "outputs": [
    {
     "name": "stdout",
     "output_type": "stream",
     "text": [
      "feature reduction parameters==>, ('classifier__max_depth', 9), \n",
      " classifier parameters ==> ('classifier__n_estimators', 20)\n"
     ]
    }
   ],
   "source": [
    "print(\"feature reduction parameters==>, {}, \\n classifier parameters ==>\"\n",
    "      .format([(key, value) for key, value in dict.items(model_grid1.best_params_)][0]),\n",
    "      [(key, value) for key, value in dict.items(model_grid1.best_params_)][1])"
   ]
  },
  {
   "cell_type": "markdown",
   "metadata": {},
   "source": [
    "### Model - 3(includes model 2 feature selection and its parameters)\n",
    "Feature selection  - used model2 feature selection since the model resulted in promising results. <br>\n",
    "Classifer - since promissing results were seen using ensemble classification methods, more ensaemble techniques like RandomForestclassifier, ExtreeForest, Adaboost,GradientBoost were taken"
   ]
  },
  {
   "cell_type": "code",
   "execution_count": 26,
   "metadata": {},
   "outputs": [],
   "source": [
    "class ClassiferHelper:\n",
    "\n",
    "    def __init__(self, models, params):\n",
    "        if not set(models.keys()).issubset(set(params.keys())):\n",
    "            missing_params = list(set(models.keys()) - set(params.keys()))\n",
    "            raise ValueError(\"Some estimators are missing parameters: %s\" % missing_params)\n",
    "        self.models = models\n",
    "        self.params = params\n",
    "        self.keys = models.keys()\n",
    "        self.grid_searches = {}\n",
    "\n",
    "    def fit(self, X, y, cv=3, n_jobs=3, verbose=1, scoring=None, refit=False):\n",
    "        for key in self.keys:\n",
    "            print(\"Running GridSearchCV for %s.\" % key)\n",
    "            model = self.models[key]\n",
    "            params = self.params[key]\n",
    "            gs = GridSearchCV(model, params, cv=cv, n_jobs=n_jobs,\n",
    "                              verbose=verbose, scoring=scoring, refit=refit,\n",
    "                              return_train_score=True)\n",
    "            gs.fit(X,y)\n",
    "            self.grid_searches[key] = gs    \n",
    "\n",
    "    def score_summary(self, sort_by='mean_score'):\n",
    "        def row(key, scores, params):\n",
    "            d = {\n",
    "                 'estimator': key,\n",
    "                 'min_score': min(scores),\n",
    "                 'max_score': max(scores),\n",
    "                 'mean_score': np.mean(scores),\n",
    "                 'std_score': np.std(scores),\n",
    "            }\n",
    "            return pd.Series({**params,**d})\n",
    "\n",
    "        rows = []\n",
    "        for k in self.grid_searches:\n",
    "#             print(k)\n",
    "            params = self.grid_searches[k].cv_results_['params']\n",
    "            scores = []\n",
    "            for i in range(self.grid_searches[k].cv):\n",
    "                key = \"split{}_test_score\".format(i)\n",
    "                r = self.grid_searches[k].cv_results_[key]        \n",
    "                scores.append(r.reshape(len(params),1))\n",
    "\n",
    "            all_scores = np.hstack(scores)\n",
    "            for p, s in zip(params,all_scores):\n",
    "                rows.append((row(k, s, p)))\n",
    "\n",
    "        df = pd.concat(rows, axis=1).T.sort_values([sort_by], ascending=False)\n",
    "\n",
    "        columns = ['estimator', 'min_score', 'mean_score', 'max_score', 'std_score']\n",
    "        columns = columns + [c for c in df.columns if c not in columns]\n",
    "\n",
    "        return df[columns]"
   ]
  },
  {
   "cell_type": "code",
   "execution_count": 27,
   "metadata": {},
   "outputs": [],
   "source": [
    "model3_kbest = SelectKBest(mutual_info_classif, k=9)\n",
    "X_train_new  = model3_kbest.fit_transform(X_train, y_train)"
   ]
  },
  {
   "cell_type": "code",
   "execution_count": 28,
   "metadata": {},
   "outputs": [
    {
     "data": {
      "text/plain": [
       "array([ 1,  2,  3,  7, 11, 12, 23, 32, 52])"
      ]
     },
     "execution_count": 28,
     "metadata": {},
     "output_type": "execute_result"
    }
   ],
   "source": [
    "model3_kbest.get_support(indices=True)"
   ]
  },
  {
   "cell_type": "code",
   "execution_count": 29,
   "metadata": {},
   "outputs": [],
   "source": [
    "\n",
    "models1 = {\n",
    "    'ExtraTreesClassifier': ExtraTreesClassifier(),\n",
    "    'RandomForestClassifier': RandomForestClassifier(),\n",
    "    'AdaBoostClassifier': AdaBoostClassifier(),\n",
    "    'GradientBoostingClassifier': GradientBoostingClassifier()\n",
    "#     ,\n",
    "#     'SVC': SVC()\n",
    "}\n",
    "\n",
    "params1 = {\n",
    "    'ExtraTreesClassifier': { 'n_estimators': [16, 32] },\n",
    "    'RandomForestClassifier': { 'n_estimators': [10, 15,20],'max_depth':[5,7,9]},\n",
    "    'AdaBoostClassifier':  { 'n_estimators': [16, 32] },\n",
    "    'GradientBoostingClassifier': { 'n_estimators': [16, 32], 'learning_rate': [0.8, 1.0] }\n",
    "#     'SVC': [\n",
    "#         {'kernel': ['linear'], 'C': [0.025]}]\n",
    "}\n",
    "        \n"
   ]
  },
  {
   "cell_type": "code",
   "execution_count": 30,
   "metadata": {},
   "outputs": [
    {
     "name": "stdout",
     "output_type": "stream",
     "text": [
      "Running GridSearchCV for ExtraTreesClassifier.\n",
      "Fitting 3 folds for each of 2 candidates, totalling 6 fits\n",
      "Running GridSearchCV for RandomForestClassifier.\n",
      "Fitting 3 folds for each of 9 candidates, totalling 27 fits\n",
      "Running GridSearchCV for AdaBoostClassifier.\n",
      "Fitting 3 folds for each of 2 candidates, totalling 6 fits\n",
      "Running GridSearchCV for GradientBoostingClassifier.\n",
      "Fitting 3 folds for each of 4 candidates, totalling 12 fits\n"
     ]
    }
   ],
   "source": [
    "helper1 = ClassiferHelper(models1, params1)\n",
    "helper1.fit(X_train_new, y_train, scoring=recall_custom_scorer, n_jobs=2)"
   ]
  },
  {
   "cell_type": "code",
   "execution_count": 31,
   "metadata": {},
   "outputs": [
    {
     "data": {
      "text/html": [
       "<div>\n",
       "<style scoped>\n",
       "    .dataframe tbody tr th:only-of-type {\n",
       "        vertical-align: middle;\n",
       "    }\n",
       "\n",
       "    .dataframe tbody tr th {\n",
       "        vertical-align: top;\n",
       "    }\n",
       "\n",
       "    .dataframe thead th {\n",
       "        text-align: right;\n",
       "    }\n",
       "</style>\n",
       "<table border=\"1\" class=\"dataframe\">\n",
       "  <thead>\n",
       "    <tr style=\"text-align: right;\">\n",
       "      <th></th>\n",
       "      <th>estimator</th>\n",
       "      <th>min_score</th>\n",
       "      <th>mean_score</th>\n",
       "      <th>max_score</th>\n",
       "      <th>std_score</th>\n",
       "      <th>n_estimators</th>\n",
       "      <th>max_depth</th>\n",
       "      <th>learning_rate</th>\n",
       "    </tr>\n",
       "  </thead>\n",
       "  <tbody>\n",
       "    <tr>\n",
       "      <th>11</th>\n",
       "      <td>AdaBoostClassifier</td>\n",
       "      <td>0.691695</td>\n",
       "      <td>0.702387</td>\n",
       "      <td>0.721001</td>\n",
       "      <td>0.01321</td>\n",
       "      <td>16</td>\n",
       "      <td>NaN</td>\n",
       "      <td>NaN</td>\n",
       "    </tr>\n",
       "    <tr>\n",
       "      <th>12</th>\n",
       "      <td>AdaBoostClassifier</td>\n",
       "      <td>0.688021</td>\n",
       "      <td>0.698218</td>\n",
       "      <td>0.708112</td>\n",
       "      <td>0.008205</td>\n",
       "      <td>32</td>\n",
       "      <td>NaN</td>\n",
       "      <td>NaN</td>\n",
       "    </tr>\n",
       "    <tr>\n",
       "      <th>16</th>\n",
       "      <td>GradientBoostingClassifier</td>\n",
       "      <td>0.680061</td>\n",
       "      <td>0.689246</td>\n",
       "      <td>0.697877</td>\n",
       "      <td>0.007284</td>\n",
       "      <td>32</td>\n",
       "      <td>NaN</td>\n",
       "      <td>1.0</td>\n",
       "    </tr>\n",
       "    <tr>\n",
       "      <th>15</th>\n",
       "      <td>GradientBoostingClassifier</td>\n",
       "      <td>0.650493</td>\n",
       "      <td>0.678126</td>\n",
       "      <td>0.694845</td>\n",
       "      <td>0.019683</td>\n",
       "      <td>16</td>\n",
       "      <td>NaN</td>\n",
       "      <td>1.0</td>\n",
       "    </tr>\n",
       "    <tr>\n",
       "      <th>14</th>\n",
       "      <td>GradientBoostingClassifier</td>\n",
       "      <td>0.6721</td>\n",
       "      <td>0.684949</td>\n",
       "      <td>0.694086</td>\n",
       "      <td>0.009352</td>\n",
       "      <td>32</td>\n",
       "      <td>NaN</td>\n",
       "      <td>0.8</td>\n",
       "    </tr>\n",
       "    <tr>\n",
       "      <th>8</th>\n",
       "      <td>RandomForestClassifier</td>\n",
       "      <td>0.650114</td>\n",
       "      <td>0.673198</td>\n",
       "      <td>0.691695</td>\n",
       "      <td>0.017283</td>\n",
       "      <td>10</td>\n",
       "      <td>9</td>\n",
       "      <td>NaN</td>\n",
       "    </tr>\n",
       "    <tr>\n",
       "      <th>13</th>\n",
       "      <td>GradientBoostingClassifier</td>\n",
       "      <td>0.657695</td>\n",
       "      <td>0.672817</td>\n",
       "      <td>0.686126</td>\n",
       "      <td>0.011677</td>\n",
       "      <td>16</td>\n",
       "      <td>NaN</td>\n",
       "      <td>0.8</td>\n",
       "    </tr>\n",
       "    <tr>\n",
       "      <th>9</th>\n",
       "      <td>RandomForestClassifier</td>\n",
       "      <td>0.653904</td>\n",
       "      <td>0.664855</td>\n",
       "      <td>0.676649</td>\n",
       "      <td>0.009305</td>\n",
       "      <td>15</td>\n",
       "      <td>9</td>\n",
       "      <td>NaN</td>\n",
       "    </tr>\n",
       "    <tr>\n",
       "      <th>10</th>\n",
       "      <td>RandomForestClassifier</td>\n",
       "      <td>0.643669</td>\n",
       "      <td>0.66334</td>\n",
       "      <td>0.675009</td>\n",
       "      <td>0.01399</td>\n",
       "      <td>20</td>\n",
       "      <td>9</td>\n",
       "      <td>NaN</td>\n",
       "    </tr>\n",
       "    <tr>\n",
       "      <th>3</th>\n",
       "      <td>RandomForestClassifier</td>\n",
       "      <td>0.607278</td>\n",
       "      <td>0.650325</td>\n",
       "      <td>0.673237</td>\n",
       "      <td>0.03046</td>\n",
       "      <td>15</td>\n",
       "      <td>5</td>\n",
       "      <td>NaN</td>\n",
       "    </tr>\n",
       "    <tr>\n",
       "      <th>1</th>\n",
       "      <td>ExtraTreesClassifier</td>\n",
       "      <td>0.656558</td>\n",
       "      <td>0.663845</td>\n",
       "      <td>0.671217</td>\n",
       "      <td>0.005985</td>\n",
       "      <td>32</td>\n",
       "      <td>NaN</td>\n",
       "      <td>NaN</td>\n",
       "    </tr>\n",
       "    <tr>\n",
       "      <th>7</th>\n",
       "      <td>RandomForestClassifier</td>\n",
       "      <td>0.617134</td>\n",
       "      <td>0.64312</td>\n",
       "      <td>0.663381</td>\n",
       "      <td>0.019309</td>\n",
       "      <td>20</td>\n",
       "      <td>7</td>\n",
       "      <td>NaN</td>\n",
       "    </tr>\n",
       "    <tr>\n",
       "      <th>0</th>\n",
       "      <td>ExtraTreesClassifier</td>\n",
       "      <td>0.64746</td>\n",
       "      <td>0.650702</td>\n",
       "      <td>0.656807</td>\n",
       "      <td>0.00432</td>\n",
       "      <td>16</td>\n",
       "      <td>NaN</td>\n",
       "      <td>NaN</td>\n",
       "    </tr>\n",
       "    <tr>\n",
       "      <th>5</th>\n",
       "      <td>RandomForestClassifier</td>\n",
       "      <td>0.627369</td>\n",
       "      <td>0.641351</td>\n",
       "      <td>0.655669</td>\n",
       "      <td>0.011556</td>\n",
       "      <td>10</td>\n",
       "      <td>7</td>\n",
       "      <td>NaN</td>\n",
       "    </tr>\n",
       "    <tr>\n",
       "      <th>2</th>\n",
       "      <td>RandomForestClassifier</td>\n",
       "      <td>0.620925</td>\n",
       "      <td>0.636421</td>\n",
       "      <td>0.654663</td>\n",
       "      <td>0.01391</td>\n",
       "      <td>10</td>\n",
       "      <td>5</td>\n",
       "      <td>NaN</td>\n",
       "    </tr>\n",
       "    <tr>\n",
       "      <th>6</th>\n",
       "      <td>RandomForestClassifier</td>\n",
       "      <td>0.617513</td>\n",
       "      <td>0.638824</td>\n",
       "      <td>0.651119</td>\n",
       "      <td>0.015128</td>\n",
       "      <td>15</td>\n",
       "      <td>7</td>\n",
       "      <td>NaN</td>\n",
       "    </tr>\n",
       "    <tr>\n",
       "      <th>4</th>\n",
       "      <td>RandomForestClassifier</td>\n",
       "      <td>0.623958</td>\n",
       "      <td>0.63402</td>\n",
       "      <td>0.647081</td>\n",
       "      <td>0.009675</td>\n",
       "      <td>20</td>\n",
       "      <td>5</td>\n",
       "      <td>NaN</td>\n",
       "    </tr>\n",
       "  </tbody>\n",
       "</table>\n",
       "</div>"
      ],
      "text/plain": [
       "                     estimator min_score mean_score max_score std_score  \\\n",
       "11          AdaBoostClassifier  0.691695   0.702387  0.721001   0.01321   \n",
       "12          AdaBoostClassifier  0.688021   0.698218  0.708112  0.008205   \n",
       "16  GradientBoostingClassifier  0.680061   0.689246  0.697877  0.007284   \n",
       "15  GradientBoostingClassifier  0.650493   0.678126  0.694845  0.019683   \n",
       "14  GradientBoostingClassifier    0.6721   0.684949  0.694086  0.009352   \n",
       "8       RandomForestClassifier  0.650114   0.673198  0.691695  0.017283   \n",
       "13  GradientBoostingClassifier  0.657695   0.672817  0.686126  0.011677   \n",
       "9       RandomForestClassifier  0.653904   0.664855  0.676649  0.009305   \n",
       "10      RandomForestClassifier  0.643669    0.66334  0.675009   0.01399   \n",
       "3       RandomForestClassifier  0.607278   0.650325  0.673237   0.03046   \n",
       "1         ExtraTreesClassifier  0.656558   0.663845  0.671217  0.005985   \n",
       "7       RandomForestClassifier  0.617134    0.64312  0.663381  0.019309   \n",
       "0         ExtraTreesClassifier   0.64746   0.650702  0.656807   0.00432   \n",
       "5       RandomForestClassifier  0.627369   0.641351  0.655669  0.011556   \n",
       "2       RandomForestClassifier  0.620925   0.636421  0.654663   0.01391   \n",
       "6       RandomForestClassifier  0.617513   0.638824  0.651119  0.015128   \n",
       "4       RandomForestClassifier  0.623958    0.63402  0.647081  0.009675   \n",
       "\n",
       "   n_estimators max_depth learning_rate  \n",
       "11           16       NaN           NaN  \n",
       "12           32       NaN           NaN  \n",
       "16           32       NaN           1.0  \n",
       "15           16       NaN           1.0  \n",
       "14           32       NaN           0.8  \n",
       "8            10         9           NaN  \n",
       "13           16       NaN           0.8  \n",
       "9            15         9           NaN  \n",
       "10           20         9           NaN  \n",
       "3            15         5           NaN  \n",
       "1            32       NaN           NaN  \n",
       "7            20         7           NaN  \n",
       "0            16       NaN           NaN  \n",
       "5            10         7           NaN  \n",
       "2            10         5           NaN  \n",
       "6            15         7           NaN  \n",
       "4            20         5           NaN  "
      ]
     },
     "execution_count": 31,
     "metadata": {},
     "output_type": "execute_result"
    }
   ],
   "source": [
    "helper1.score_summary(sort_by='max_score')"
   ]
  },
  {
   "cell_type": "code",
   "execution_count": 32,
   "metadata": {},
   "outputs": [
    {
     "data": {
      "text/plain": [
       "GridSearchCV(estimator=Pipeline(steps=[('AdaBoostClassifier',\n",
       "                                        AdaBoostClassifier())]),\n",
       "             n_jobs=5, param_grid={'AdaBoostClassifier__n_estimators': [16]},\n",
       "             scoring=make_scorer(<lambda>), verbose=True)"
      ]
     },
     "execution_count": 32,
     "metadata": {},
     "output_type": "execute_result"
    }
   ],
   "source": [
    "results = helper1.score_summary(sort_by='max_score')\n",
    "selected_model = results.loc[results['max_score'].index[0],'estimator']\n",
    "selected_model_param = results.loc[results['max_score'].index[0],'n_estimators']\n",
    "\n",
    "pipe3 = Pipeline([(selected_model, models1[selected_model])])\n",
    "param_grid = {selected_model+'__n_estimators':[selected_model_param] }\n",
    "model_grid3 = GridSearchCV(pipe3, param_grid, n_jobs=5, scoring=recall_custom_scorer,verbose= True)\n",
    "model_grid3"
   ]
  },
  {
   "cell_type": "code",
   "execution_count": 33,
   "metadata": {},
   "outputs": [
    {
     "name": "stdout",
     "output_type": "stream",
     "text": [
      "Fitting 5 folds for each of 1 candidates, totalling 5 fits\n",
      "              precision    recall  f1-score   support\n",
      "\n",
      "       False       0.68      0.64      0.66      1992\n",
      "        True       0.65      0.69      0.67      1956\n",
      "\n",
      "    accuracy                           0.67      3948\n",
      "   macro avg       0.67      0.67      0.67      3948\n",
      "weighted avg       0.67      0.67      0.67      3948\n",
      "\n"
     ]
    },
    {
     "data": {
      "text/html": [
       "<div>\n",
       "<style scoped>\n",
       "    .dataframe tbody tr th:only-of-type {\n",
       "        vertical-align: middle;\n",
       "    }\n",
       "\n",
       "    .dataframe tbody tr th {\n",
       "        vertical-align: top;\n",
       "    }\n",
       "\n",
       "    .dataframe thead th {\n",
       "        text-align: right;\n",
       "    }\n",
       "</style>\n",
       "<table border=\"1\" class=\"dataframe\">\n",
       "  <thead>\n",
       "    <tr style=\"text-align: right;\">\n",
       "      <th>Predicted</th>\n",
       "      <th>False</th>\n",
       "      <th>True</th>\n",
       "      <th>All</th>\n",
       "    </tr>\n",
       "    <tr>\n",
       "      <th>Actual</th>\n",
       "      <th></th>\n",
       "      <th></th>\n",
       "      <th></th>\n",
       "    </tr>\n",
       "  </thead>\n",
       "  <tbody>\n",
       "    <tr>\n",
       "      <th>False</th>\n",
       "      <td>1272</td>\n",
       "      <td>720</td>\n",
       "      <td>1992</td>\n",
       "    </tr>\n",
       "    <tr>\n",
       "      <th>True</th>\n",
       "      <td>599</td>\n",
       "      <td>1357</td>\n",
       "      <td>1956</td>\n",
       "    </tr>\n",
       "    <tr>\n",
       "      <th>All</th>\n",
       "      <td>1871</td>\n",
       "      <td>2077</td>\n",
       "      <td>3948</td>\n",
       "    </tr>\n",
       "  </tbody>\n",
       "</table>\n",
       "</div>"
      ],
      "text/plain": [
       "Predicted  False  True   All\n",
       "Actual                      \n",
       "False       1272   720  1992\n",
       "True         599  1357  1956\n",
       "All         1871  2077  3948"
      ]
     },
     "execution_count": 33,
     "metadata": {},
     "output_type": "execute_result"
    }
   ],
   "source": [
    "cols = model3_kbest.get_support(indices=True)\n",
    "X_test_new = X_test.iloc[:,cols]\n",
    "model_grid3.fit(X_test_new,y_test)\n",
    "print(classification_report(y_test,model_grid3.predict(X_test_new)))\n",
    "pd.crosstab(y_test,model_grid3.predict(X_test_new),rownames=['Actual'],colnames=['Predicted'],dropna=False,margins=True)"
   ]
  },
  {
   "cell_type": "markdown",
   "metadata": {},
   "source": [
    "## Final model\n",
    "Feature selection based on model3 <br>\n",
    "and classifier too is based on best classifier score of model 3"
   ]
  },
  {
   "cell_type": "code",
   "execution_count": 34,
   "metadata": {},
   "outputs": [
    {
     "data": {
      "text/plain": [
       "array([ 1,  2,  3,  7, 11, 12, 23, 51, 52])"
      ]
     },
     "execution_count": 34,
     "metadata": {},
     "output_type": "execute_result"
    }
   ],
   "source": [
    "del df\n",
    "final_kbest  = SelectKBest(mutual_info_classif, k=9)\n",
    "\n",
    "# final_X_train = final_kbest.fit_transform(df_sub.iloc[df_sub.index.isin(df_sub_sample_index),~df_sub.columns.isin(['isfraud'])], \n",
    "#                           df_sub.loc[df_sub.index.isin(df_sub_sample_index), 'isfraud'])\n",
    "final_X_train = final_kbest.fit_transform(X,y)\n",
    "final_cols = final_kbest.get_support(indices=True)\n",
    "final_cols\n"
   ]
  },
  {
   "cell_type": "code",
   "execution_count": 35,
   "metadata": {},
   "outputs": [
    {
     "name": "stdout",
     "output_type": "stream",
     "text": [
      "features selected for the model \n",
      " Index(['cardcvv', 'cardlast4digits', 'cardpresent', 'enteredcvv',\n",
      "       'posentrymode', 'transactionamount', 'amount_classify_<$50',\n",
      "       'iselectronic_electronic', 'iselectronic_instore'],\n",
      "      dtype='object')\n"
     ]
    }
   ],
   "source": [
    "print(\"features selected for the model \\n\",X.columns[final_cols])"
   ]
  },
  {
   "cell_type": "code",
   "execution_count": 36,
   "metadata": {},
   "outputs": [
    {
     "data": {
      "text/plain": [
       "Text(0.5, 1.0, 'Features and mutual_info_scores')"
      ]
     },
     "execution_count": 36,
     "metadata": {},
     "output_type": "execute_result"
    },
    {
     "data": {
      "image/png": "[encoded data removed]",
      "text/plain": [
       "<Figure size 1000x800 with 1 Axes>"
      ]
     },
     "metadata": {
      "needs_background": "light"
     },
     "output_type": "display_data"
    }
   ],
   "source": [
    "final_kbest_df = pd.DataFrame({'features':X.columns,\n",
    "             'scores':final_kbest.scores_, \n",
    "             'seleted':final_kbest.get_support()}).sort_values(by= 'scores', ascending = False).reset_index(drop =True)\n",
    "\n",
    "fig, ax = plt.subplots( figsize = (10,8))\n",
    "fig.set_dpi(100)\n",
    "ax.plot(final_kbest_df.scores,final_kbest_df.features)\n",
    "ax.set_title(\"Features and mutual_info_scores\")"
   ]
  },
  {
   "cell_type": "code",
   "execution_count": 37,
   "metadata": {},
   "outputs": [
    {
     "data": {
      "text/html": [
       "<div>\n",
       "<style scoped>\n",
       "    .dataframe tbody tr th:only-of-type {\n",
       "        vertical-align: middle;\n",
       "    }\n",
       "\n",
       "    .dataframe tbody tr th {\n",
       "        vertical-align: top;\n",
       "    }\n",
       "\n",
       "    .dataframe thead th {\n",
       "        text-align: right;\n",
       "    }\n",
       "</style>\n",
       "<table border=\"1\" class=\"dataframe\">\n",
       "  <thead>\n",
       "    <tr style=\"text-align: right;\">\n",
       "      <th></th>\n",
       "      <th>features</th>\n",
       "      <th>scores</th>\n",
       "      <th>seleted</th>\n",
       "    </tr>\n",
       "  </thead>\n",
       "  <tbody>\n",
       "    <tr>\n",
       "      <th>0</th>\n",
       "      <td>cardlast4digits</td>\n",
       "      <td>0.080061</td>\n",
       "      <td>True</td>\n",
       "    </tr>\n",
       "    <tr>\n",
       "      <th>1</th>\n",
       "      <td>cardcvv</td>\n",
       "      <td>0.052266</td>\n",
       "      <td>True</td>\n",
       "    </tr>\n",
       "    <tr>\n",
       "      <th>2</th>\n",
       "      <td>enteredcvv</td>\n",
       "      <td>0.052081</td>\n",
       "      <td>True</td>\n",
       "    </tr>\n",
       "    <tr>\n",
       "      <th>3</th>\n",
       "      <td>transactionamount</td>\n",
       "      <td>0.045481</td>\n",
       "      <td>True</td>\n",
       "    </tr>\n",
       "    <tr>\n",
       "      <th>4</th>\n",
       "      <td>amount_classify_&lt;$50</td>\n",
       "      <td>0.024376</td>\n",
       "      <td>True</td>\n",
       "    </tr>\n",
       "    <tr>\n",
       "      <th>5</th>\n",
       "      <td>posentrymode</td>\n",
       "      <td>0.021825</td>\n",
       "      <td>True</td>\n",
       "    </tr>\n",
       "    <tr>\n",
       "      <th>6</th>\n",
       "      <td>iselectronic_electronic</td>\n",
       "      <td>0.021301</td>\n",
       "      <td>True</td>\n",
       "    </tr>\n",
       "    <tr>\n",
       "      <th>7</th>\n",
       "      <td>cardpresent</td>\n",
       "      <td>0.020075</td>\n",
       "      <td>True</td>\n",
       "    </tr>\n",
       "    <tr>\n",
       "      <th>8</th>\n",
       "      <td>iselectronic_instore</td>\n",
       "      <td>0.016852</td>\n",
       "      <td>True</td>\n",
       "    </tr>\n",
       "  </tbody>\n",
       "</table>\n",
       "</div>"
      ],
      "text/plain": [
       "                  features    scores  seleted\n",
       "0          cardlast4digits  0.080061     True\n",
       "1                  cardcvv  0.052266     True\n",
       "2               enteredcvv  0.052081     True\n",
       "3        transactionamount  0.045481     True\n",
       "4     amount_classify_<$50  0.024376     True\n",
       "5             posentrymode  0.021825     True\n",
       "6  iselectronic_electronic  0.021301     True\n",
       "7              cardpresent  0.020075     True\n",
       "8     iselectronic_instore  0.016852     True"
      ]
     },
     "execution_count": 37,
     "metadata": {},
     "output_type": "execute_result"
    }
   ],
   "source": [
    "final_kbest_df.head(n=9)"
   ]
  },
  {
   "cell_type": "code",
   "execution_count": 38,
   "metadata": {},
   "outputs": [
    {
     "name": "stdout",
     "output_type": "stream",
     "text": [
      "Fitting 5 folds for each of 1 candidates, totalling 5 fits\n"
     ]
    },
    {
     "data": {
      "text/plain": [
       "GridSearchCV(estimator=Pipeline(steps=[('AdaBoostClassifier',\n",
       "                                        AdaBoostClassifier())]),\n",
       "             n_jobs=5, param_grid={'AdaBoostClassifier__n_estimators': [16]},\n",
       "             scoring=make_scorer(<lambda>), verbose=True)"
      ]
     },
     "execution_count": 38,
     "metadata": {},
     "output_type": "execute_result"
    }
   ],
   "source": [
    "final_pipe = Pipeline([(selected_model, models1[selected_model])])\n",
    "param_grid_final = param_grid\n",
    "\n",
    "final_model = GridSearchCV(final_pipe, param_grid_final, n_jobs=5, scoring=recall_custom_scorer,verbose= True)\n",
    "# final_model.fit(final_X_train, df_sub.loc[df_sub.index.isin(df_sub_sample_index), 'isfraud'])\n",
    "final_model.fit(X.iloc[:,final_cols], y)"
   ]
  },
  {
   "cell_type": "code",
   "execution_count": 39,
   "metadata": {},
   "outputs": [
    {
     "data": {
      "text/plain": [
       "{'mean_fit_time': array([0.41030045]),\n",
       " 'std_fit_time': array([0.00823318]),\n",
       " 'mean_score_time': array([0.04309525]),\n",
       " 'std_score_time': array([0.010255]),\n",
       " 'param_AdaBoostClassifier__n_estimators': masked_array(data=[16],\n",
       "              mask=[False],\n",
       "        fill_value='?',\n",
       "             dtype=object),\n",
       " 'params': [{'AdaBoostClassifier__n_estimators': 16}],\n",
       " 'split0_test_score': array([0.67527862]),\n",
       " 'split1_test_score': array([0.704154]),\n",
       " 'split2_test_score': array([0.69047619]),\n",
       " 'split3_test_score': array([0.71732523]),\n",
       " 'split4_test_score': array([0.72630512]),\n",
       " 'mean_test_score': array([0.70270783]),\n",
       " 'std_test_score': array([0.01830064]),\n",
       " 'rank_test_score': array([1], dtype=int32)}"
      ]
     },
     "execution_count": 39,
     "metadata": {},
     "output_type": "execute_result"
    }
   ],
   "source": [
    "final_model.cv_results_"
   ]
  },
  {
   "cell_type": "code",
   "execution_count": 40,
   "metadata": {},
   "outputs": [
    {
     "name": "stdout",
     "output_type": "stream",
     "text": [
      "Final model testing results on the un-balanced test data\n",
      "****************************************************************************************************\n",
      "              precision    recall  f1-score   support\n",
      "\n",
      "       False       0.99      0.64      0.78    154725\n",
      "        True       0.03      0.70      0.06      2548\n",
      "\n",
      "    accuracy                           0.64    157273\n",
      "   macro avg       0.51      0.67      0.42    157273\n",
      "weighted avg       0.98      0.64      0.76    157273\n",
      "\n"
     ]
    },
    {
     "data": {
      "text/html": [
       "<div>\n",
       "<style scoped>\n",
       "    .dataframe tbody tr th:only-of-type {\n",
       "        vertical-align: middle;\n",
       "    }\n",
       "\n",
       "    .dataframe tbody tr th {\n",
       "        vertical-align: top;\n",
       "    }\n",
       "\n",
       "    .dataframe thead th {\n",
       "        text-align: right;\n",
       "    }\n",
       "</style>\n",
       "<table border=\"1\" class=\"dataframe\">\n",
       "  <thead>\n",
       "    <tr style=\"text-align: right;\">\n",
       "      <th>Predicted</th>\n",
       "      <th>False</th>\n",
       "      <th>True</th>\n",
       "      <th>All</th>\n",
       "    </tr>\n",
       "    <tr>\n",
       "      <th>Actual</th>\n",
       "      <th></th>\n",
       "      <th></th>\n",
       "      <th></th>\n",
       "    </tr>\n",
       "  </thead>\n",
       "  <tbody>\n",
       "    <tr>\n",
       "      <th>False</th>\n",
       "      <td>98689</td>\n",
       "      <td>56036</td>\n",
       "      <td>154725</td>\n",
       "    </tr>\n",
       "    <tr>\n",
       "      <th>True</th>\n",
       "      <td>766</td>\n",
       "      <td>1782</td>\n",
       "      <td>2548</td>\n",
       "    </tr>\n",
       "    <tr>\n",
       "      <th>All</th>\n",
       "      <td>99455</td>\n",
       "      <td>57818</td>\n",
       "      <td>157273</td>\n",
       "    </tr>\n",
       "  </tbody>\n",
       "</table>\n",
       "</div>"
      ],
      "text/plain": [
       "Predicted  False   True     All\n",
       "Actual                         \n",
       "False      98689  56036  154725\n",
       "True         766   1782    2548\n",
       "All        99455  57818  157273"
      ]
     },
     "execution_count": 40,
     "metadata": {},
     "output_type": "execute_result"
    }
   ],
   "source": [
    "print(\"Final model testing results on the un-balanced test data\")\n",
    "print(\"*\"*100)\n",
    "X_final_test = df_sub.loc[~df_sub.index.isin(df_sub_sample_index),X.columns[final_cols]]\n",
    "y_final_test = df_sub.loc[~df_sub.index.isin(df_sub_sample_index), 'isfraud']\n",
    "\n",
    "print(classification_report(y_final_test,final_model.predict(X_final_test)))\n",
    "pd.crosstab(y_final_test,final_model.predict(X_final_test),rownames=['Actual'],colnames=['Predicted'],dropna=False,margins=True)"
   ]
  },
  {
   "cell_type": "code",
   "execution_count": 41,
   "metadata": {},
   "outputs": [
    {
     "data": {
      "text/plain": [
       "786363"
      ]
     },
     "execution_count": 41,
     "metadata": {},
     "output_type": "execute_result"
    }
   ],
   "source": [
    "len(df_sub_sample_index)+df_sub.iloc[~df_sub.index.isin(df_sub_sample_index), ].shape[0]"
   ]
  },
  {
   "cell_type": "code",
   "execution_count": 42,
   "metadata": {},
   "outputs": [
    {
     "data": {
      "text/html": [
       "<div>\n",
       "<style scoped>\n",
       "    .dataframe tbody tr th:only-of-type {\n",
       "        vertical-align: middle;\n",
       "    }\n",
       "\n",
       "    .dataframe tbody tr th {\n",
       "        vertical-align: top;\n",
       "    }\n",
       "\n",
       "    .dataframe thead th {\n",
       "        text-align: right;\n",
       "    }\n",
       "</style>\n",
       "<table border=\"1\" class=\"dataframe\">\n",
       "  <thead>\n",
       "    <tr style=\"text-align: right;\">\n",
       "      <th></th>\n",
       "      <th>variable</th>\n",
       "      <th>size_in_kilobytes</th>\n",
       "    </tr>\n",
       "  </thead>\n",
       "  <tbody>\n",
       "    <tr>\n",
       "      <th>0</th>\n",
       "      <td>df_sub</td>\n",
       "      <td>106742.782227</td>\n",
       "    </tr>\n",
       "    <tr>\n",
       "      <th>1</th>\n",
       "      <td>X_final_test</td>\n",
       "      <td>7986.542969</td>\n",
       "    </tr>\n",
       "    <tr>\n",
       "      <th>2</th>\n",
       "      <td>y_final_test</td>\n",
       "      <td>5510.344727</td>\n",
       "    </tr>\n",
       "    <tr>\n",
       "      <th>3</th>\n",
       "      <td>df_sub_sample_index</td>\n",
       "      <td>4914.789062</td>\n",
       "    </tr>\n",
       "    <tr>\n",
       "      <th>4</th>\n",
       "      <td>X</td>\n",
       "      <td>2814.230469</td>\n",
       "    </tr>\n",
       "  </tbody>\n",
       "</table>\n",
       "</div>"
      ],
      "text/plain": [
       "              variable  size_in_kilobytes\n",
       "0               df_sub      106742.782227\n",
       "1         X_final_test        7986.542969\n",
       "2         y_final_test        5510.344727\n",
       "3  df_sub_sample_index        4914.789062\n",
       "4                    X        2814.230469"
      ]
     },
     "execution_count": 42,
     "metadata": {},
     "output_type": "execute_result"
    }
   ],
   "source": [
    "import sys# These are the usual ipython objects, including this one you are creating\n",
    "ipython_vars = ['In', 'Out', 'exit', 'quit', 'get_ipython', 'ipython_vars']# Get a sorted list of the objects and their sizes\n",
    "temp = sorted([(x, sys.getsizeof(globals().get(x))/1024)\n",
    "        for x in dir() \n",
    "        if not x.startswith('_') and x not in sys.modules and x not in ipython_vars], key=lambda x: x[1], reverse=True)\n",
    "df_temp = pd.DataFrame(temp, columns = ['variable', 'size_in_kilobytes'])\n",
    "df_temp.head()\n",
    "\n"
   ]
  }
 ],
 "metadata": {
  "kernelspec": {
   "display_name": "Python 3",
   "language": "python",
   "name": "python3"
  },
  "language_info": {
   "codemirror_mode": {
    "name": "ipython",
    "version": 3
   },
   "file_extension": ".py",
   "mimetype": "text/x-python",
   "name": "python",
   "nbconvert_exporter": "python",
   "pygments_lexer": "ipython3",
   "version": "3.7.3"
  }
 },
 "nbformat": 4,
 "nbformat_minor": 2
}
